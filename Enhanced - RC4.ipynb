{
  "cells": [
    {
      "cell_type": "markdown",
      "source": [
        "# Installing Libraries"
      ],
      "metadata": {
        "id": "lvtY-0ifORV-"
      }
    },
    {
      "cell_type": "code",
      "execution_count": null,
      "metadata": {
        "colab": {
          "base_uri": "https://localhost:8080/"
        },
        "id": "E2DtmLbv8QT2",
        "outputId": "f671189a-ee58-4371-f8f2-4fc7cda184a8"
      },
      "outputs": [
        {
          "output_type": "stream",
          "name": "stdout",
          "text": [
            "Collecting pycuda\n",
            "  Downloading pycuda-2024.1.tar.gz (1.7 MB)\n",
            "\u001b[2K     \u001b[90m━━━━━━━━━━━━━━━━━━━━━━━━━━━━━━━━━━━━━━━━\u001b[0m \u001b[32m1.7/1.7 MB\u001b[0m \u001b[31m10.4 MB/s\u001b[0m eta \u001b[36m0:00:00\u001b[0m\n",
            "\u001b[?25h  Installing build dependencies ... \u001b[?25l\u001b[?25hdone\n",
            "  Getting requirements to build wheel ... \u001b[?25l\u001b[?25hdone\n",
            "  Preparing metadata (pyproject.toml) ... \u001b[?25l\u001b[?25hdone\n",
            "Collecting pytools>=2011.2 (from pycuda)\n",
            "  Downloading pytools-2024.1.2-py2.py3-none-any.whl (85 kB)\n",
            "\u001b[2K     \u001b[90m━━━━━━━━━━━━━━━━━━━━━━━━━━━━━━━━━━━━━━━━\u001b[0m \u001b[32m85.6/85.6 kB\u001b[0m \u001b[31m14.1 MB/s\u001b[0m eta \u001b[36m0:00:00\u001b[0m\n",
            "\u001b[?25hRequirement already satisfied: appdirs>=1.4.0 in /usr/local/lib/python3.10/dist-packages (from pycuda) (1.4.4)\n",
            "Collecting mako (from pycuda)\n",
            "  Downloading Mako-1.3.5-py3-none-any.whl (78 kB)\n",
            "\u001b[2K     \u001b[90m━━━━━━━━━━━━━━━━━━━━━━━━━━━━━━━━━━━━━━━━\u001b[0m \u001b[32m78.6/78.6 kB\u001b[0m \u001b[31m13.5 MB/s\u001b[0m eta \u001b[36m0:00:00\u001b[0m\n",
            "\u001b[?25hRequirement already satisfied: platformdirs>=2.2.0 in /usr/local/lib/python3.10/dist-packages (from pytools>=2011.2->pycuda) (4.2.1)\n",
            "Requirement already satisfied: typing-extensions>=4.0 in /usr/local/lib/python3.10/dist-packages (from pytools>=2011.2->pycuda) (4.11.0)\n",
            "Requirement already satisfied: MarkupSafe>=0.9.2 in /usr/local/lib/python3.10/dist-packages (from mako->pycuda) (2.1.5)\n",
            "Building wheels for collected packages: pycuda\n",
            "  Building wheel for pycuda (pyproject.toml) ... \u001b[?25l\u001b[?25hdone\n",
            "  Created wheel for pycuda: filename=pycuda-2024.1-cp310-cp310-linux_x86_64.whl size=661204 sha256=45b7ddbbec4ec7956125a2e8c5109f16b27679c5e00af2b7370f62839e5ba00d\n",
            "  Stored in directory: /root/.cache/pip/wheels/12/34/d2/9a349255a4eca3a486d82c79d21e138ce2ccd90f414d9d72b8\n",
            "Successfully built pycuda\n",
            "Installing collected packages: pytools, mako, pycuda\n",
            "Successfully installed mako-1.3.5 pycuda-2024.1 pytools-2024.1.2\n"
          ]
        }
      ],
      "source": [
        "!pip install pycuda"
      ]
    },
    {
      "cell_type": "markdown",
      "source": [
        "# Importing Libraries"
      ],
      "metadata": {
        "id": "arNpOKuPOU21"
      }
    },
    {
      "cell_type": "code",
      "source": [
        "import pycuda.autoinit\n",
        "import pycuda.driver as cuda\n",
        "from pycuda.compiler import SourceModule\n",
        "import numpy as np\n",
        "import itertools\n",
        "import random"
      ],
      "metadata": {
        "id": "Q6d6uyyCLSbA"
      },
      "execution_count": null,
      "outputs": []
    },
    {
      "cell_type": "markdown",
      "source": [],
      "metadata": {
        "id": "PsWor2h4NUw3"
      }
    },
    {
      "cell_type": "markdown",
      "source": [
        "# Traditional RC4"
      ],
      "metadata": {
        "id": "pwufDT7SNbdO"
      }
    },
    {
      "cell_type": "code",
      "source": [
        "# CUDA kernel for the RC4 brute force attack\n",
        "cuda_code = \"\"\"\n",
        "__global__ void rc4_brute_force_kernel(unsigned char *keys, unsigned char *outputs, int key_length, int output_length, int num_keys) {\n",
        "    int idx = threadIdx.x + blockIdx.x * blockDim.x;\n",
        "    if (idx >= num_keys) return;\n",
        "\n",
        "    unsigned char S[256];\n",
        "    int j = 0;\n",
        "\n",
        "    // Initialize S array\n",
        "    for (int i = 0; i < 256; i++) {\n",
        "        S[i] = i;\n",
        "    }\n",
        "\n",
        "    // Key scheduling algorithm (KSA)\n",
        "    for (int i = 0; i < 256; i++) {\n",
        "        j = (j + S[i] + keys[idx * key_length + i % key_length]) % 256;\n",
        "        unsigned char temp = S[i];\n",
        "        S[i] = S[j];\n",
        "        S[j] = temp;\n",
        "    }\n",
        "\n",
        "    int i = 0;\n",
        "    j = 0;\n",
        "\n",
        "    // Pseudo-random generation algorithm (PRGA)\n",
        "    for (int k = 0; k < output_length; k++) {\n",
        "        i = (i + 1) % 256;\n",
        "        j = (j + S[i]) % 256;\n",
        "        unsigned char temp = S[i];\n",
        "        S[i] = S[j];\n",
        "        S[j] = temp;\n",
        "        unsigned char K = S[(S[i] + S[j]) % 256];\n",
        "        outputs[idx * output_length + k] = K;\n",
        "    }\n",
        "}\n",
        "\"\"\""
      ],
      "metadata": {
        "id": "UFJqo3y_NgMP"
      },
      "execution_count": null,
      "outputs": []
    },
    {
      "cell_type": "code",
      "source": [
        "# Compile the CUDA code\n",
        "mod = SourceModule(cuda_code)\n",
        "rc4_kernel = mod.get_function(\"rc4_brute_force_kernel\")"
      ],
      "metadata": {
        "id": "XDIssan6NsOH"
      },
      "execution_count": null,
      "outputs": []
    },
    {
      "cell_type": "code",
      "source": [
        "def rc4_encrypt(key, plaintext):\n",
        "    S = list(range(256))\n",
        "    j = 0\n",
        "    out = []\n",
        "\n",
        "    # Key Scheduling Algorithm (KSA)\n",
        "    for i in range(256):\n",
        "        j = (j + S[i] + key[i % len(key)]) % 256\n",
        "        S[i], S[j] = S[j], S[i]\n",
        "\n",
        "    i = j = 0\n",
        "    # Pseudo-random Generation Algorithm (PRGA)\n",
        "    for char in plaintext:\n",
        "        i = (i + 1) % 256\n",
        "        j = (j + S[i]) % 256\n",
        "        S[i], S[j] = S[j], S[i]\n",
        "        K = S[(S[i] + S[j]) % 256]\n",
        "        out.append(char ^ K)\n",
        "    return out"
      ],
      "metadata": {
        "id": "SU_6PMD4NzE4"
      },
      "execution_count": null,
      "outputs": []
    },
    {
      "cell_type": "code",
      "source": [
        "def simulate_encryption(key, plaintext):\n",
        "    key_bytes = [ord(c) for c in key]  # Convert key to bytes\n",
        "    plaintext_bytes = [ord(c) for c in plaintext]  # Convert plaintext to bytes\n",
        "    encrypted = rc4_encrypt(key_bytes, plaintext_bytes)\n",
        "    encrypted_str = ''.join([chr(e) for e in encrypted])  # Convert encrypted bytes to string\n",
        "    return key, encrypted, encrypted_str"
      ],
      "metadata": {
        "id": "DXdQ4oSlN1MY"
      },
      "execution_count": null,
      "outputs": []
    },
    {
      "cell_type": "code",
      "source": [
        "def brute_force_gpu(known_output, plaintext_length, key_length, plaintext):\n",
        "    num_keys = 256 ** key_length\n",
        "    keys = np.array(list(itertools.product(range(256), repeat=key_length)), dtype=np.uint8).reshape(-1)\n",
        "    outputs = np.zeros(num_keys * plaintext_length, dtype=np.uint8)\n",
        "\n",
        "    # Create CUDA events for timing\n",
        "    start = cuda.Event()\n",
        "    end = cuda.Event()\n",
        "\n",
        "    # Record the start time\n",
        "    start.record()\n",
        "\n",
        "    # Use smaller grid and block sizes for testing to avoid illegal memory access\n",
        "    block_size = 256\n",
        "    grid_size = (num_keys + block_size - 1) // block_size\n",
        "\n",
        "    rc4_kernel(cuda.In(keys), cuda.Out(outputs), np.int32(key_length), np.int32(plaintext_length), np.int32(num_keys), block=(block_size,1,1), grid=(grid_size,1))\n",
        "\n",
        "    # Record the end time\n",
        "    end.record()\n",
        "    end.synchronize()\n",
        "\n",
        "    # Calculate the elapsed time\n",
        "    time_taken = start.time_till(end)\n",
        "    print(f\"Time taken: {time_taken} milliseconds\")\n",
        "\n",
        "    for i in range(num_keys):\n",
        "        output_slice = outputs[i * plaintext_length:(i + 1) * plaintext_length]\n",
        "        decrypted_text = ''.join([chr(output_slice[j] ^ known_output[j]) for j in range(plaintext_length)])\n",
        "        if decrypted_text == plaintext:\n",
        "            found_key_bytes = keys[i * key_length:(i + 1) * key_length]\n",
        "            found_key_str = ''.join([chr(byte) for byte in found_key_bytes])\n",
        "            print(\"Key found:\", found_key_str)\n",
        "            return found_key_str, decrypted_text\n",
        "\n",
        "    print(\"No key found\")\n",
        "    return None, None"
      ],
      "metadata": {
        "id": "B0YDUENeN3GB"
      },
      "execution_count": null,
      "outputs": []
    },
    {
      "cell_type": "code",
      "execution_count": null,
      "metadata": {
        "id": "9C4vE8di1xqM",
        "colab": {
          "base_uri": "https://localhost:8080/"
        },
        "outputId": "6e708d13-00cf-4196-855c-8cf1fb0e2105"
      },
      "outputs": [
        {
          "output_type": "stream",
          "name": "stdout",
          "text": [
            "Actual Key Used: see\n",
            "Encrypted Text (array): [63, 139, 42, 228, 120]\n",
            "Encrypted Text (string): ?*äx\n",
            "Time taken: 4605.22412109375 milliseconds\n",
            "Key found: see\n",
            "Decrypted Text: hello\n"
          ]
        }
      ],
      "source": [
        "key = \"see\"\n",
        "plaintext = \"hello\"\n",
        "key_used, encrypted_text, encrypted_str = simulate_encryption(key, plaintext)\n",
        "print(\"Actual Key Used:\", key_used)\n",
        "print(\"Encrypted Text (array):\", encrypted_text)\n",
        "print(\"Encrypted Text (string):\", encrypted_str)\n",
        "\n",
        "# Brute force using GPU\n",
        "found_key, decrypted_text = brute_force_gpu(encrypted_text, len(plaintext), len(key), plaintext)\n",
        "if found_key is not None:\n",
        "    print(\"Decrypted Text:\", decrypted_text)\n",
        "else:\n",
        "    print(\"Failed to decrypt the text\")\n"
      ]
    },
    {
      "cell_type": "markdown",
      "source": [
        "# Enhanced RC4\n"
      ],
      "metadata": {
        "id": "hbLM08S_N_xb"
      }
    },
    {
      "cell_type": "code",
      "source": [
        "cuda_code = \"\"\"\n",
        "__global__ void rc4_ncksa_kernel(unsigned char *keys, unsigned char *outputs, int key_length, int output_length, int num_keys) {\n",
        "    int idx = threadIdx.x + blockIdx.x * blockDim.x;\n",
        "    if (idx >= num_keys) return;\n",
        "\n",
        "    unsigned char S[256];\n",
        "    int j = 0, k = 0;\n",
        "\n",
        "    // Initialize S array\n",
        "    for (int i = 0; i < 256; i++) {\n",
        "        S[i] = i;\n",
        "    }\n",
        "\n",
        "    // Non-linear Conditional Key Scheduling Algorithm (NCKSA)\n",
        "    for (int i = 0; i < 256; i++) {\n",
        "        j = (j + S[i] + keys[idx * key_length + i % key_length]) % 256;\n",
        "        k = (keys[idx * key_length + i % key_length] & S[i]) | (keys[(i + 1) % key_length] ^ S[j]);  // Non-linear operation\n",
        "\n",
        "        int non_linear_transform = (k * S[i] + keys[(i + 2) % key_length]) % 256;\n",
        "        unsigned char temp = S[i];\n",
        "        S[i] = S[non_linear_transform];\n",
        "        S[non_linear_transform] = temp;\n",
        "\n",
        "        int non_linear_transform_2 = (k ^ S[j]) + keys[(i + 3) % key_length];\n",
        "        temp = S[i];\n",
        "        S[i] = S[non_linear_transform_2];\n",
        "        S[non_linear_transform_2] = temp;\n",
        "\n",
        "        if (k % 3 == 0) {  // Conditional variability\n",
        "            int swapIndex = (j * k + 1) % 256;\n",
        "            unsigned char temp = S[i];\n",
        "            S[i] = S[swapIndex];\n",
        "            S[swapIndex] = temp;\n",
        "        } else {\n",
        "            unsigned char temp = S[i];\n",
        "            S[i] = S[j];\n",
        "            S[j] = temp;\n",
        "        }\n",
        "    }\n",
        "\n",
        "    int i = 0;\n",
        "    j = 0;\n",
        "    unsigned char last_output = 0; // Add last_output to provide feedback\n",
        "\n",
        "    // Enhanced Pseudo-random generation algorithm (PRGA)\n",
        "    for (int k = 0; k < output_length; k++) {\n",
        "        i = (i + 1) % 256;\n",
        "        j = (j + S[i] + last_output) % 256;  // Incorporate last output in the update of j\n",
        "        unsigned char temp = S[i];\n",
        "        S[i] = S[j];\n",
        "        S[j] = temp;\n",
        "        last_output = S[(S[i] + S[j]) % 256];  // Update last_output with current output\n",
        "        outputs[idx * output_length + k] = last_output;\n",
        "    }\n",
        "}\n",
        "\n",
        "\"\"\"\n"
      ],
      "metadata": {
        "id": "Mtvxx15wOFoi"
      },
      "execution_count": null,
      "outputs": []
    },
    {
      "cell_type": "code",
      "source": [
        "# Compile the CUDA code\n",
        "mod = SourceModule(cuda_code)\n",
        "rc4_kernel = mod.get_function(\"rc4_ncksa_kernel\")"
      ],
      "metadata": {
        "id": "9HgbOoiEOHJ9"
      },
      "execution_count": null,
      "outputs": []
    },
    {
      "cell_type": "code",
      "source": [
        "def generate_random_key(length):\n",
        "    return [random.randint(0, 255) for _ in range(length)]"
      ],
      "metadata": {
        "id": "RWMbQHK9OIVt"
      },
      "execution_count": null,
      "outputs": []
    },
    {
      "cell_type": "code",
      "source": [
        "def simulate_encryption(key_length):\n",
        "    key = generate_random_key(key_length)\n",
        "    plaintext = np.zeros(10, dtype=np.uint8)  # Simple plaintext\n",
        "    encrypted = np.zeros_like(plaintext)\n",
        "    key_np = np.array(key, dtype=np.uint8)\n",
        "    rc4_kernel(cuda.In(key_np), cuda.Out(encrypted), np.int32(key_length), np.int32(len(plaintext)), np.int32(1), block=(256,1,1), grid=(1,1))\n",
        "    return key, encrypted.tolist()"
      ],
      "metadata": {
        "id": "k20OQVINOJQ1"
      },
      "execution_count": null,
      "outputs": []
    },
    {
      "cell_type": "code",
      "source": [
        "def brute_force_gpu(known_output, key_length):\n",
        "    num_keys = 256 ** key_length\n",
        "    keys = np.array(list(itertools.product(range(256), repeat=key_length)), dtype=np.uint8).reshape(-1)\n",
        "    outputs = np.zeros(num_keys * len(known_output), dtype=np.uint8)\n",
        "\n",
        "    # Create CUDA events for timing\n",
        "    start = cuda.Event()\n",
        "    end = cuda.Event()\n",
        "\n",
        "    # Record the start time\n",
        "    start.record()\n",
        "\n",
        "    rc4_kernel(cuda.In(keys), cuda.Out(outputs), np.int32(key_length), np.int32(len(known_output)), np.int32(num_keys), block=(256,1,1), grid=((num_keys + 255) // 256,1))\n",
        "\n",
        "    # Record the end time\n",
        "    end.record()\n",
        "    end.synchronize()\n",
        "\n",
        "    # Calculate the elapsed time\n",
        "    time_taken = start.time_till(end)\n",
        "    print(f\"Time taken: {time_taken} milliseconds\")\n",
        "\n",
        "    for i in range(num_keys):\n",
        "        output_slice = outputs[i * len(known_output):(i + 1) * len(known_output)]\n",
        "        if np.array_equal(output_slice, known_output):\n",
        "            print(\"Key found:\", keys[i * key_length:(i + 1) * key_length])\n",
        "            return keys[i * key_length:(i + 1) * key_length]\n",
        "\n",
        "    print(\"No key found\")\n",
        "    return None"
      ],
      "metadata": {
        "id": "gdekEejGOK68"
      },
      "execution_count": null,
      "outputs": []
    },
    {
      "cell_type": "code",
      "execution_count": null,
      "metadata": {
        "colab": {
          "background_save": true,
          "base_uri": "https://localhost:8080/"
        },
        "id": "x_RZeRGstKyy",
        "outputId": "461d8748-f150-4120-fe23-fcf4cacf98ce"
      },
      "outputs": [
        {
          "name": "stdout",
          "output_type": "stream",
          "text": [
            "Actual Key Used: [106, 18, 197]\n",
            "Known Output (for testing): [167, 93, 228, 197, 0, 114, 62, 12, 131, 109]\n"
          ]
        },
        {
          "name": "stderr",
          "output_type": "stream",
          "text": [
            "/usr/local/lib/python3.10/dist-packages/google/colab/_variable_inspector.py:27: UserWarning: module in out-of-thread context could not be cleaned up\n",
            "  globals().clear()\n"
          ]
        },
        {
          "name": "stdout",
          "output_type": "stream",
          "text": [
            "Time taken: 11368.88671875 milliseconds\n",
            "No key found\n"
          ]
        }
      ],
      "source": [
        "key_length = 3\n",
        "key_used, known_output = simulate_encryption(key_length)\n",
        "print(\"Actual Key Used:\", key_used)\n",
        "print(\"Known Output (for testing):\", known_output)\n",
        "\n",
        "# Brute force using GPU\n",
        "brute_force_gpu(known_output, key_length)\n"
      ]
    }
  ],
  "metadata": {
    "accelerator": "GPU",
    "colab": {
      "gpuType": "T4",
      "provenance": []
    },
    "kernelspec": {
      "display_name": "Python 3",
      "name": "python3"
    },
    "language_info": {
      "name": "python"
    }
  },
  "nbformat": 4,
  "nbformat_minor": 0
}